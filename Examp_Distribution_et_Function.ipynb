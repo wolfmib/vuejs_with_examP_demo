{
 "cells": [
  {
   "cell_type": "markdown",
   "metadata": {},
   "source": [
    "# 確率分布, 統計関数 🤔\n",
    "\n",
    "---  \n",
    "\n",
    "-  あれは何でしょう ? \n",
    "\n",
    "- [moment generating functions](#mgf)\n",
    "- [xx] "
   ]
  },
  {
   "cell_type": "markdown",
   "metadata": {},
   "source": [
    "---\n",
    "😀😅😂🤣\n",
    "\n",
    "--- \n",
    " "
   ]
  },
  {
   "cell_type": "markdown",
   "metadata": {},
   "source": [
    "<a name=\"mgf\"></a>\n",
    "## Monent Generating Functions \n",
    "\n",
    "---\n",
    "- It's use to calculate the expection easily in the Examp.\n",
    "- For example:\n",
    "    - Given G(t)\n",
    "    - the <t> is simply dg/dt t ,   at t= certian value\n",
    "    - the <t^2> is simply dg2/dt2 , at t= certain value"
   ]
  },
  {
   "cell_type": "markdown",
   "metadata": {},
   "source": [
    "### Problem Example\n",
    "- A company insures homes in three cities, J, K, and L. \n",
    "- Since sufficient distance separates the cities, it is reasonable to assume that the losses occurring in these cities are mutually independent.\n",
    "- The moment generating functions for the loss distributions of the cities are:\n",
    "    - MJ(t)  = (1-2t)^-3\n",
    "    - MK=(t) = (1-2t)^-2.5 \n",
    "    - ML(t)  = (1-2t)^-4.5\n",
    "\n",
    "---\n",
    "\n",
    "Calculate E(X3) 🦉?\n",
    "- (A) 1,320\n",
    "- (B) 2,082\n",
    "- (C) 5,760\n",
    "- (D) 8,000\n",
    "- (E) 10,560\n",
    "---\n"
   ]
  },
  {
   "cell_type": "code",
   "execution_count": 35,
   "metadata": {},
   "outputs": [],
   "source": [
    "from sympy import diff, sin, Symbol"
   ]
  },
  {
   "cell_type": "code",
   "execution_count": 36,
   "metadata": {},
   "outputs": [
    {
     "data": {
      "text/latex": [
       "$\\displaystyle \\frac{480}{\\left(2 t - 1\\right)^{6}}$"
      ],
      "text/plain": [
       "480/(2*t - 1)**6"
      ]
     },
     "execution_count": 36,
     "metadata": {},
     "output_type": "execute_result"
    }
   ],
   "source": [
    "t = Symbol('t')\n",
    "diff( (1-2*t)**-3,t,3)"
   ]
  },
  {
   "cell_type": "code",
   "execution_count": 41,
   "metadata": {},
   "outputs": [
    {
     "data": {
      "text/latex": [
       "$\\displaystyle 480$"
      ],
      "text/plain": [
       "480"
      ]
     },
     "execution_count": 41,
     "metadata": {},
     "output_type": "execute_result"
    }
   ],
   "source": [
    "# d3(Mj)/d^3. \n",
    "diff( (1-2*t)**-3,t,3).subs(t,0)"
   ]
  },
  {
   "cell_type": "code",
   "execution_count": 42,
   "metadata": {},
   "outputs": [
    {
     "data": {
      "text/latex": [
       "$\\displaystyle 315.0$"
      ],
      "text/plain": [
       "315.000000000000"
      ]
     },
     "execution_count": 42,
     "metadata": {},
     "output_type": "execute_result"
    }
   ],
   "source": [
    "# d3(Mk)/dt^3 \n",
    "diff( (1-2*t)**-2.5,t,3).subs(t,0)"
   ]
  },
  {
   "cell_type": "code",
   "execution_count": 44,
   "metadata": {},
   "outputs": [
    {
     "data": {
      "text/latex": [
       "$\\displaystyle 1287.0$"
      ],
      "text/plain": [
       "1287.00000000000"
      ]
     },
     "execution_count": 44,
     "metadata": {},
     "output_type": "execute_result"
    }
   ],
   "source": [
    "# d3(ML)/dt^3 \n",
    "diff( (1-2*t)**-4.5,t,3).subs(t,0)"
   ]
  },
  {
   "cell_type": "code",
   "execution_count": 45,
   "metadata": {},
   "outputs": [
    {
     "data": {
      "text/plain": [
       "2082"
      ]
     },
     "execution_count": 45,
     "metadata": {},
     "output_type": "execute_result"
    }
   ],
   "source": [
    "480 + 315 + 1287"
   ]
  },
  {
   "cell_type": "markdown",
   "metadata": {},
   "source": [
    "So answer is (B)  🐥\n",
    "---"
   ]
  },
  {
   "cell_type": "code",
   "execution_count": null,
   "metadata": {},
   "outputs": [],
   "source": []
  }
 ],
 "metadata": {
  "kernelspec": {
   "display_name": "Python 3",
   "language": "python",
   "name": "python3"
  },
  "language_info": {
   "codemirror_mode": {
    "name": "ipython",
    "version": 3
   },
   "file_extension": ".py",
   "mimetype": "text/x-python",
   "name": "python",
   "nbconvert_exporter": "python",
   "pygments_lexer": "ipython3",
   "version": "3.6.7"
  }
 },
 "nbformat": 4,
 "nbformat_minor": 2
}
