{
 "cells": [
  {
   "cell_type": "markdown",
   "metadata": {},
   "source": [
    "## Seed with Random Number Generator 🦜\n",
    "---\n",
    "\n"
   ]
  },
  {
   "cell_type": "code",
   "execution_count": 10,
   "metadata": {},
   "outputs": [
    {
     "name": "stdout",
     "output_type": "stream",
     "text": [
      "0.13436424411240122 0.8474337369372327 0.763774618976614\n",
      "0.13436424411240122 0.8474337369372327 0.763774618976614\n",
      "0.9560342718892494 0.9478274870593494 0.05655136772680869\n",
      "1 2 2 6\n",
      "1 2\n"
     ]
    }
   ],
   "source": [
    "#from random import seed\n",
    "import random as rd\n",
    "\n",
    "#seed\n",
    "rd.seed(1)\n",
    "print(rd.random(),rd.random(),rd.random())\n",
    "\n",
    "rd.seed(1)\n",
    "print(rd.random(),rd.random(),rd.random())\n",
    "\n",
    "rd.seed(2)\n",
    "print(rd.random(),rd.random(),rd.random())\n",
    "\n",
    "rd.seed(2)\n",
    "print(rd.randint(1,10),rd.randint(1,10),rd.randint(1,10),rd.randint(1,10))\n",
    "\n",
    "rd.seed(2)\n",
    "print(rd.randint(1,10),rd.randint(1,10))\n",
    "\n",
    "\n",
    "\n"
   ]
  },
  {
   "cell_type": "markdown",
   "metadata": {},
   "source": [
    "## One Possible Solution 🦉\n",
    "---\n",
    "- Obtenir la loop from randint(1,5)\n",
    "- Prends  seed  +=  random number (1,100000) avec serveral times\n",
    "- Obtenir la numero et mettre dans la seed\n",
    "- Prends la random number (1, 131) etc..\n",
    "\n",
    "---\n",
    "\n",
    "## Test Result:\n",
    "---\n",
    "Not good distribution\n",
    "\n",
    "---\n",
    "\n",
    "## Try Other 😎..\n",
    "---\n",
    "- Obtenir la loop from randint(1,5)\n",
    "- Prends for loop , random_number = randint(1,131)\n",
    "- Prends la derineer random number \n"
   ]
  },
  {
   "cell_type": "code",
   "execution_count": null,
   "metadata": {},
   "outputs": [],
   "source": []
  }
 ],
 "metadata": {
  "kernelspec": {
   "display_name": "Python 3",
   "language": "python",
   "name": "python3"
  },
  "language_info": {
   "codemirror_mode": {
    "name": "ipython",
    "version": 3
   },
   "file_extension": ".py",
   "mimetype": "text/x-python",
   "name": "python",
   "nbconvert_exporter": "python",
   "pygments_lexer": "ipython3",
   "version": "3.7.6"
  }
 },
 "nbformat": 4,
 "nbformat_minor": 4
}
